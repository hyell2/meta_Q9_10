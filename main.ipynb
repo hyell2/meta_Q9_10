{
 "cells": [
  {
   "cell_type": "markdown",
   "id": "fc039130",
   "metadata": {},
   "source": [
    "## step1"
   ]
  },
  {
   "cell_type": "code",
   "execution_count": 1,
   "id": "1e138036",
   "metadata": {},
   "outputs": [
    {
     "name": "stderr",
     "output_type": "stream",
     "text": [
      "<>:5: SyntaxWarning: invalid escape sequence '\\g'\n",
      "<>:5: SyntaxWarning: invalid escape sequence '\\g'\n",
      "C:\\Users\\gpfl2\\AppData\\Local\\Temp\\ipykernel_11952\\3692911928.py:5: SyntaxWarning: invalid escape sequence '\\g'\n",
      "  tmp_df = pd.read_excel('.\\game.xlsx', sheet_name='Sheet1')\n"
     ]
    },
    {
     "name": "stdout",
     "output_type": "stream",
     "text": [
      "==================== game.xlsx 데이터 정보입니다. ====================\n"
     ]
    },
    {
     "data": {
      "text/plain": [
       "(2899, 9)"
      ]
     },
     "metadata": {},
     "output_type": "display_data"
    },
    {
     "data": {
      "text/plain": [
       "Index(['user_id', 'date', 'playtime', 'playcount', 'level', 'mainjob',\n",
       "       'paycount', 'payamount', 'mainjoblevel'],\n",
       "      dtype='object')"
      ]
     },
     "metadata": {},
     "output_type": "display_data"
    },
    {
     "data": {
      "text/html": [
       "<div>\n",
       "<style scoped>\n",
       "    .dataframe tbody tr th:only-of-type {\n",
       "        vertical-align: middle;\n",
       "    }\n",
       "\n",
       "    .dataframe tbody tr th {\n",
       "        vertical-align: top;\n",
       "    }\n",
       "\n",
       "    .dataframe thead th {\n",
       "        text-align: right;\n",
       "    }\n",
       "</style>\n",
       "<table border=\"1\" class=\"dataframe\">\n",
       "  <thead>\n",
       "    <tr style=\"text-align: right;\">\n",
       "      <th></th>\n",
       "      <th>user_id</th>\n",
       "      <th>date</th>\n",
       "      <th>playtime</th>\n",
       "      <th>playcount</th>\n",
       "      <th>level</th>\n",
       "      <th>mainjob</th>\n",
       "      <th>paycount</th>\n",
       "      <th>payamount</th>\n",
       "      <th>mainjoblevel</th>\n",
       "    </tr>\n",
       "  </thead>\n",
       "  <tbody>\n",
       "    <tr>\n",
       "      <th>0</th>\n",
       "      <td>1001</td>\n",
       "      <td>2024-01-10</td>\n",
       "      <td>61</td>\n",
       "      <td>1.0</td>\n",
       "      <td>15</td>\n",
       "      <td>dealer</td>\n",
       "      <td>1</td>\n",
       "      <td>60300</td>\n",
       "      <td>60</td>\n",
       "    </tr>\n",
       "    <tr>\n",
       "      <th>1</th>\n",
       "      <td>1001</td>\n",
       "      <td>2024-01-11</td>\n",
       "      <td>14</td>\n",
       "      <td>1.0</td>\n",
       "      <td>15</td>\n",
       "      <td>dealer</td>\n",
       "      <td>1</td>\n",
       "      <td>100</td>\n",
       "      <td>60</td>\n",
       "    </tr>\n",
       "    <tr>\n",
       "      <th>2</th>\n",
       "      <td>1001</td>\n",
       "      <td>2024-01-12</td>\n",
       "      <td>16</td>\n",
       "      <td>1.0</td>\n",
       "      <td>15</td>\n",
       "      <td>tanker</td>\n",
       "      <td>1</td>\n",
       "      <td>151</td>\n",
       "      <td>60</td>\n",
       "    </tr>\n",
       "    <tr>\n",
       "      <th>3</th>\n",
       "      <td>1001</td>\n",
       "      <td>2024-01-13</td>\n",
       "      <td>1300</td>\n",
       "      <td>3.0</td>\n",
       "      <td>15</td>\n",
       "      <td>tanker</td>\n",
       "      <td>1</td>\n",
       "      <td>1000</td>\n",
       "      <td>60</td>\n",
       "    </tr>\n",
       "    <tr>\n",
       "      <th>4</th>\n",
       "      <td>1001</td>\n",
       "      <td>2024-01-14</td>\n",
       "      <td>41</td>\n",
       "      <td>3.0</td>\n",
       "      <td>15</td>\n",
       "      <td>tanker</td>\n",
       "      <td>1</td>\n",
       "      <td>16000</td>\n",
       "      <td>60</td>\n",
       "    </tr>\n",
       "  </tbody>\n",
       "</table>\n",
       "</div>"
      ],
      "text/plain": [
       "   user_id       date  playtime  playcount  level mainjob  paycount  \\\n",
       "0     1001 2024-01-10        61        1.0     15  dealer         1   \n",
       "1     1001 2024-01-11        14        1.0     15  dealer         1   \n",
       "2     1001 2024-01-12        16        1.0     15  tanker         1   \n",
       "3     1001 2024-01-13      1300        3.0     15  tanker         1   \n",
       "4     1001 2024-01-14        41        3.0     15  tanker         1   \n",
       "\n",
       "   payamount  mainjoblevel  \n",
       "0      60300            60  \n",
       "1        100            60  \n",
       "2        151            60  \n",
       "3       1000            60  \n",
       "4      16000            60  "
      ]
     },
     "metadata": {},
     "output_type": "display_data"
    }
   ],
   "source": [
    "# 데이터 읽기용 코드셀입니다.\n",
    "\n",
    "import pandas as pd\n",
    "print('='*20, 'game.xlsx 데이터 정보입니다.', '='*20)\n",
    "tmp_df = pd.read_excel('.\\game.xlsx', sheet_name='Sheet1')\n",
    "display(tmp_df.shape)\n",
    "display(tmp_df.columns)\n",
    "display(tmp_df.head())"
   ]
  },
  {
   "cell_type": "markdown",
   "id": "d6e6f552",
   "metadata": {},
   "source": [
    "## Step2"
   ]
  },
  {
   "cell_type": "code",
   "execution_count": 2,
   "id": "7b081962",
   "metadata": {},
   "outputs": [
    {
     "name": "stdout",
     "output_type": "stream",
     "text": [
      "==================== features 정보입니다. ====================\n",
      "(2899, 6)\n"
     ]
    },
    {
     "data": {
      "text/html": [
       "<div>\n",
       "<style scoped>\n",
       "    .dataframe tbody tr th:only-of-type {\n",
       "        vertical-align: middle;\n",
       "    }\n",
       "\n",
       "    .dataframe tbody tr th {\n",
       "        vertical-align: top;\n",
       "    }\n",
       "\n",
       "    .dataframe thead th {\n",
       "        text-align: right;\n",
       "    }\n",
       "</style>\n",
       "<table border=\"1\" class=\"dataframe\">\n",
       "  <thead>\n",
       "    <tr style=\"text-align: right;\">\n",
       "      <th></th>\n",
       "      <th>playtime</th>\n",
       "      <th>playcount</th>\n",
       "      <th>level</th>\n",
       "      <th>paycount</th>\n",
       "      <th>payamount</th>\n",
       "      <th>mainjoblevel</th>\n",
       "    </tr>\n",
       "  </thead>\n",
       "  <tbody>\n",
       "    <tr>\n",
       "      <th>0</th>\n",
       "      <td>61</td>\n",
       "      <td>1.0</td>\n",
       "      <td>15</td>\n",
       "      <td>1</td>\n",
       "      <td>60300</td>\n",
       "      <td>60</td>\n",
       "    </tr>\n",
       "    <tr>\n",
       "      <th>1</th>\n",
       "      <td>14</td>\n",
       "      <td>1.0</td>\n",
       "      <td>15</td>\n",
       "      <td>1</td>\n",
       "      <td>100</td>\n",
       "      <td>60</td>\n",
       "    </tr>\n",
       "    <tr>\n",
       "      <th>2</th>\n",
       "      <td>16</td>\n",
       "      <td>1.0</td>\n",
       "      <td>15</td>\n",
       "      <td>1</td>\n",
       "      <td>151</td>\n",
       "      <td>60</td>\n",
       "    </tr>\n",
       "    <tr>\n",
       "      <th>3</th>\n",
       "      <td>1300</td>\n",
       "      <td>3.0</td>\n",
       "      <td>15</td>\n",
       "      <td>1</td>\n",
       "      <td>1000</td>\n",
       "      <td>60</td>\n",
       "    </tr>\n",
       "    <tr>\n",
       "      <th>4</th>\n",
       "      <td>41</td>\n",
       "      <td>3.0</td>\n",
       "      <td>15</td>\n",
       "      <td>1</td>\n",
       "      <td>16000</td>\n",
       "      <td>60</td>\n",
       "    </tr>\n",
       "  </tbody>\n",
       "</table>\n",
       "</div>"
      ],
      "text/plain": [
       "   playtime  playcount  level  paycount  payamount  mainjoblevel\n",
       "0        61        1.0     15         1      60300            60\n",
       "1        14        1.0     15         1        100            60\n",
       "2        16        1.0     15         1        151            60\n",
       "3      1300        3.0     15         1       1000            60\n",
       "4        41        3.0     15         1      16000            60"
      ]
     },
     "metadata": {},
     "output_type": "display_data"
    },
    {
     "name": "stdout",
     "output_type": "stream",
     "text": [
      "==================== target 정보입니다. ====================\n",
      "(2899,)\n"
     ]
    },
    {
     "data": {
      "text/plain": [
       "0    dealer\n",
       "1    dealer\n",
       "2    tanker\n",
       "3    tanker\n",
       "4    tanker\n",
       "Name: mainjob, dtype: object"
      ]
     },
     "metadata": {},
     "output_type": "display_data"
    },
    {
     "name": "stdout",
     "output_type": "stream",
     "text": [
      "==================== 분할 이후 train 데이터 크기입니다. ====================\n",
      "(2319, 6)\n",
      "(2319,)\n",
      "==================== 분할 이후 test 데이터 크기입니다. ====================\n",
      "(580, 6)\n",
      "(580,)\n",
      "==================== train 데이터와 test 데이터 비율 계산 결과입니다. ====================\n",
      "0.7999310106933425\n",
      "0.20006898930665748\n",
      "==================== LabelEncoding 이전의 분포입니다. ====================\n"
     ]
    },
    {
     "data": {
      "image/png": "[encoded data removed]",
      "text/plain": [
       "<Figure size 1200x400 with 1 Axes>"
      ]
     },
     "metadata": {},
     "output_type": "display_data"
    },
    {
     "name": "stdout",
     "output_type": "stream",
     "text": [
      "==================== LabelEncoding 이후의 분포입니다. ====================\n"
     ]
    },
    {
     "data": {
      "image/png": "[encoded data removed]",
      "text/plain": [
       "<Figure size 1200x400 with 1 Axes>"
      ]
     },
     "metadata": {},
     "output_type": "display_data"
    }
   ],
   "source": [
    "# features: 지정한 6개 컬럼만 선택\n",
    "features = tmp_df[['playtime', 'playcount', 'level', 'paycount', 'payamount', 'mainjoblevel']]\n",
    "\n",
    "\n",
    "target = tmp_df['mainjob']\n",
    "\n",
    "print('='*20, 'features 정보입니다.', '='*20)\n",
    "print(features.shape)       # (2899, 6)\n",
    "display(features.head())\n",
    "\n",
    "print('='*20, 'target 정보입니다.', '='*20)\n",
    "print(target.shape)  \n",
    "display(target.head())\n",
    "\n",
    "from sklearn.model_selection import train_test_split\n",
    "\n",
    "# 데이터 분할\n",
    "X_train, X_test, y_train, y_test = train_test_split(\n",
    "    features, target,\n",
    "    test_size=0.2,\n",
    "    random_state=42\n",
    ")\n",
    "\n",
    "\n",
    "\n",
    "print('='*20, '분할 이후 train 데이터 크기입니다.', '='*20)\n",
    "print(X_train.shape)  # (2134, 6)\n",
    "print(y_train.shape)  # (2134,)\n",
    "\n",
    "\n",
    "\n",
    "print('='*20, '분할 이후 test 데이터 크기입니다.', '='*20)\n",
    "print(X_test.shape)   # (586, 6)\n",
    "print(y_test.shape)   # (586,)\n",
    "\n",
    "\n",
    "\n",
    "print('='*20, 'train 데이터와 test 데이터 비율 계산 결과입니다.', '='*20)\n",
    "total_count = len(features)\n",
    "train_ratio = len(X_train) / total_count\n",
    "test_ratio = len(X_test) / total_count\n",
    "\n",
    "print(train_ratio)\n",
    "print(test_ratio)\n",
    "\n",
    "from sklearn.preprocessing import LabelEncoder\n",
    "\n",
    "# LabelEncoder 객체 생성\n",
    "le = LabelEncoder()\n",
    "\n",
    "# target 데이터(Label) 인코딩\n",
    "target_encoded = le.fit_transform(target)\n",
    "\n",
    "import pandas as pd\n",
    "import matplotlib.pyplot as plt\n",
    "\n",
    "plt.rcParams['font.family'] = 'Malgun Gothic'\n",
    "\n",
    "\n",
    "# 분포 확인 (이전)\n",
    "print('='*20, 'LabelEncoding 이전의 분포입니다.', '='*20)\n",
    "\n",
    "plt.figure(figsize=(12, 4))\n",
    "#target.hist()\n",
    "pd.Series(target).hist()\n",
    "plt.grid(False) \n",
    "plt.show()\n",
    "\n",
    "# 분포 확인 (이후)\n",
    "print('='*20, 'LabelEncoding 이후의 분포입니다.', '='*20)\n",
    "\n",
    "plt.figure(figsize=(12, 4))\n",
    "pd.Series(target_encoded).hist()\n",
    "plt.grid(False) \n",
    "plt.show()\n"
   ]
  },
  {
   "cell_type": "code",
   "execution_count": null,
   "id": "462ae433",
   "metadata": {},
   "outputs": [],
   "source": []
  }
 ],
 "metadata": {
  "kernelspec": {
   "display_name": "base",
   "language": "python",
   "name": "python3"
  },
  "language_info": {
   "codemirror_mode": {
    "name": "ipython",
    "version": 3
   },
   "file_extension": ".py",
   "mimetype": "text/x-python",
   "name": "python",
   "nbconvert_exporter": "python",
   "pygments_lexer": "ipython3",
   "version": "3.12.7"
  }
 },
 "nbformat": 4,
 "nbformat_minor": 5
}
