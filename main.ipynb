{
 "cells": [
  {
   "cell_type": "markdown",
   "id": "fc039130",
   "metadata": {},
   "source": [
    "## step1"
   ]
  },
  {
   "cell_type": "code",
   "execution_count": 1,
   "id": "1e138036",
   "metadata": {},
   "outputs": [
    {
     "name": "stderr",
     "output_type": "stream",
     "text": [
      "<>:5: SyntaxWarning: invalid escape sequence '\\g'\n",
      "<>:5: SyntaxWarning: invalid escape sequence '\\g'\n",
      "C:\\Users\\gpfl2\\AppData\\Local\\Temp\\ipykernel_11952\\3692911928.py:5: SyntaxWarning: invalid escape sequence '\\g'\n",
      "  tmp_df = pd.read_excel('.\\game.xlsx', sheet_name='Sheet1')\n"
     ]
    },
    {
     "name": "stdout",
     "output_type": "stream",
     "text": [
      "==================== game.xlsx 데이터 정보입니다. ====================\n"
     ]
    },
    {
     "data": {
      "text/plain": [
       "(2899, 9)"
      ]
     },
     "metadata": {},
     "output_type": "display_data"
    },
    {
     "data": {
      "text/plain": [
       "Index(['user_id', 'date', 'playtime', 'playcount', 'level', 'mainjob',\n",
       "       'paycount', 'payamount', 'mainjoblevel'],\n",
       "      dtype='object')"
      ]
     },
     "metadata": {},
     "output_type": "display_data"
    },
    {
     "data": {
      "text/html": [
       "<div>\n",
       "<style scoped>\n",
       "    .dataframe tbody tr th:only-of-type {\n",
       "        vertical-align: middle;\n",
       "    }\n",
       "\n",
       "    .dataframe tbody tr th {\n",
       "        vertical-align: top;\n",
       "    }\n",
       "\n",
       "    .dataframe thead th {\n",
       "        text-align: right;\n",
       "    }\n",
       "</style>\n",
       "<table border=\"1\" class=\"dataframe\">\n",
       "  <thead>\n",
       "    <tr style=\"text-align: right;\">\n",
       "      <th></th>\n",
       "      <th>user_id</th>\n",
       "      <th>date</th>\n",
       "      <th>playtime</th>\n",
       "      <th>playcount</th>\n",
       "      <th>level</th>\n",
       "      <th>mainjob</th>\n",
       "      <th>paycount</th>\n",
       "      <th>payamount</th>\n",
       "      <th>mainjoblevel</th>\n",
       "    </tr>\n",
       "  </thead>\n",
       "  <tbody>\n",
       "    <tr>\n",
       "      <th>0</th>\n",
       "      <td>1001</td>\n",
       "      <td>2024-01-10</td>\n",
       "      <td>61</td>\n",
       "      <td>1.0</td>\n",
       "      <td>15</td>\n",
       "      <td>dealer</td>\n",
       "      <td>1</td>\n",
       "      <td>60300</td>\n",
       "      <td>60</td>\n",
       "    </tr>\n",
       "    <tr>\n",
       "      <th>1</th>\n",
       "      <td>1001</td>\n",
       "      <td>2024-01-11</td>\n",
       "      <td>14</td>\n",
       "      <td>1.0</td>\n",
       "      <td>15</td>\n",
       "      <td>dealer</td>\n",
       "      <td>1</td>\n",
       "      <td>100</td>\n",
       "      <td>60</td>\n",
       "    </tr>\n",
       "    <tr>\n",
       "      <th>2</th>\n",
       "      <td>1001</td>\n",
       "      <td>2024-01-12</td>\n",
       "      <td>16</td>\n",
       "      <td>1.0</td>\n",
       "      <td>15</td>\n",
       "      <td>tanker</td>\n",
       "      <td>1</td>\n",
       "      <td>151</td>\n",
       "      <td>60</td>\n",
       "    </tr>\n",
       "    <tr>\n",
       "      <th>3</th>\n",
       "      <td>1001</td>\n",
       "      <td>2024-01-13</td>\n",
       "      <td>1300</td>\n",
       "      <td>3.0</td>\n",
       "      <td>15</td>\n",
       "      <td>tanker</td>\n",
       "      <td>1</td>\n",
       "      <td>1000</td>\n",
       "      <td>60</td>\n",
       "    </tr>\n",
       "    <tr>\n",
       "      <th>4</th>\n",
       "      <td>1001</td>\n",
       "      <td>2024-01-14</td>\n",
       "      <td>41</td>\n",
       "      <td>3.0</td>\n",
       "      <td>15</td>\n",
       "      <td>tanker</td>\n",
       "      <td>1</td>\n",
       "      <td>16000</td>\n",
       "      <td>60</td>\n",
       "    </tr>\n",
       "  </tbody>\n",
       "</table>\n",
       "</div>"
      ],
      "text/plain": [
       "   user_id       date  playtime  playcount  level mainjob  paycount  \\\n",
       "0     1001 2024-01-10        61        1.0     15  dealer         1   \n",
       "1     1001 2024-01-11        14        1.0     15  dealer         1   \n",
       "2     1001 2024-01-12        16        1.0     15  tanker         1   \n",
       "3     1001 2024-01-13      1300        3.0     15  tanker         1   \n",
       "4     1001 2024-01-14        41        3.0     15  tanker         1   \n",
       "\n",
       "   payamount  mainjoblevel  \n",
       "0      60300            60  \n",
       "1        100            60  \n",
       "2        151            60  \n",
       "3       1000            60  \n",
       "4      16000            60  "
      ]
     },
     "metadata": {},
     "output_type": "display_data"
    }
   ],
   "source": [
    "# 데이터 읽기용 코드셀입니다.\n",
    "\n",
    "import pandas as pd\n",
    "print('='*20, 'game.xlsx 데이터 정보입니다.', '='*20)\n",
    "tmp_df = pd.read_excel('.\\game.xlsx', sheet_name='Sheet1')\n",
    "display(tmp_df.shape)\n",
    "display(tmp_df.columns)\n",
    "display(tmp_df.head())"
   ]
  },
  {
   "cell_type": "code",
   "execution_count": null,
   "id": "7b081962",
   "metadata": {},
   "outputs": [],
   "source": []
  }
 ],
 "metadata": {
  "kernelspec": {
   "display_name": "base",
   "language": "python",
   "name": "python3"
  },
  "language_info": {
   "codemirror_mode": {
    "name": "ipython",
    "version": 3
   },
   "file_extension": ".py",
   "mimetype": "text/x-python",
   "name": "python",
   "nbconvert_exporter": "python",
   "pygments_lexer": "ipython3",
   "version": "3.12.7"
  }
 },
 "nbformat": 4,
 "nbformat_minor": 5
}
